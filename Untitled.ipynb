{
 "cells": [
  {
   "cell_type": "code",
   "execution_count": null,
   "id": "52cee76c-678e-4d84-b510-040c69ec2b47",
   "metadata": {},
   "outputs": [],
   "source": []
  },
  {
   "cell_type": "code",
   "execution_count": 1,
   "id": "dd3fad82-0265-460d-b093-a66823a29fb0",
   "metadata": {
    "tags": []
   },
   "outputs": [
    {
     "name": "stdout",
     "output_type": "stream",
     "text": [
      "[*********************100%***********************]  1 of 1 completed\n"
     ]
    }
   ],
   "source": [
    "import yfinance as yf\n",
    "\n",
    "# Define the date range\n",
    "start_date = \"2017-12-01\"\n",
    "end_date = \"2020-07-19\"\n",
    "\n",
    "# Define the stock symbol for the S&P 500 (SPY is an ETF that tracks the S&P 500)\n",
    "stock_symbol = \"SPY\"\n",
    "\n",
    "# Fetch historical data\n",
    "df = yf.download(stock_symbol, start=start_date, end=end_date)\n",
    "\n",
    "# Save the data to a CSV file\n",
    "df.to_csv('sp500.csv')"
   ]
  },
  {
   "cell_type": "code",
   "execution_count": null,
   "id": "4f9c2a4e-d7ec-400c-acbd-b7fe901e96f0",
   "metadata": {},
   "outputs": [],
   "source": []
  }
 ],
 "metadata": {
  "kernelspec": {
   "display_name": "Python 3 (ipykernel)",
   "language": "python",
   "name": "python3"
  },
  "language_info": {
   "codemirror_mode": {
    "name": "ipython",
    "version": 3
   },
   "file_extension": ".py",
   "mimetype": "text/x-python",
   "name": "python",
   "nbconvert_exporter": "python",
   "pygments_lexer": "ipython3",
   "version": "3.9.17"
  }
 },
 "nbformat": 4,
 "nbformat_minor": 5
}
